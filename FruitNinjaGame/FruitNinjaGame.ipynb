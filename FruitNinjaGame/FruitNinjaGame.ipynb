{
 "cells": [
  {
   "cell_type": "markdown",
   "id": "23856c2c-8742-4ae7-a5a4-0323800e69cc",
   "metadata": {},
   "source": [
    "## Create Fruit Ninja Game"
   ]
  },
  {
   "cell_type": "markdown",
   "id": "820ac07c-c87f-4848-9df4-fad44fc3497e",
   "metadata": {},
   "source": [
    "##### The objective of this project is to build a fruit ninja game with python. This game is built with the help of pygame module and basic concept of python.\n",
    "\n",
    "##### In this game, the user has to cut the fruits by touching the mouse on fruits. There are also bombs with fruits. If the mouse touches more than three bombs then the game will be over."
   ]
  },
  {
   "cell_type": "code",
   "execution_count": 1,
   "id": "77f4217d-2d62-45ae-bd68-f19444e6a5e9",
   "metadata": {},
   "outputs": [
    {
     "name": "stdout",
     "output_type": "stream",
     "text": [
      "pygame 2.0.1 (SDL 2.0.14, Python 3.8.8)\n",
      "Hello from the pygame community. https://www.pygame.org/contribute.html\n"
     ]
    }
   ],
   "source": [
    "# Importing required modules\n",
    "import pygame, sys\n",
    "import os\n",
    "import random "
   ]
  },
  {
   "cell_type": "code",
   "execution_count": 2,
   "id": "bc24bd77-de2d-4139-adad-d7767da20a46",
   "metadata": {},
   "outputs": [],
   "source": [
    "# Creating display window\n",
    "player_lives = 3 # player_lives will keep track of remaining lives\n",
    "score = 0 # score will keeps track of score\n",
    "fruits = ['melon', 'orange', 'pomegranate', 'guava', 'bomb'] # fruits are the entities in the game\n",
    "WIDTH = 800 \n",
    "HEIGHT = 500 # WIDTH and HEIGHT are setting game display size by using pygame.display.set_mode\n",
    "FPS = 12 # FPS controls how often the gameDisplay should refresh. In our case, it will refresh every 1/12th second\n",
    "pygame.init() # pygame.init() initialize pygame\n",
    "pygame.display.set_caption('FRUIT NINJA--DataFlair') # pygame.display.set_caption will set the caption of game window\n",
    "gameDisplay = pygame.display.set_mode((WIDTH, HEIGHT))\n",
    "clock = pygame.time.Clock()\n",
    "WHITE = (255,255,255)\n",
    "BLACK = (0,0,0)\n",
    "RED = (255,0,0)\n",
    "GREEN = (0,255,0)\n",
    "BLUE = (0,0,255)\n",
    "gameDisplay.fill((BLACK))\n",
    "background = pygame.image.load('back.jpg') # game background set by pygame.image.load which is used to set image\n",
    "font = pygame.font.Font(os.path.join(os.getcwd(), 'comic.ttf'), 32)\n",
    "score_text = font.render('Score : ' + str(score), True, (255, 255, 255))\n",
    "lives_icon = pygame.image.load('images/white_lives.png') # Lives-icon stores images that show remaining lives"
   ]
  },
  {
   "cell_type": "code",
   "execution_count": 3,
   "id": "133c3a52-5a8f-439b-ad97-5ba17145fb8d",
   "metadata": {},
   "outputs": [],
   "source": [
    "# Generalized structure of the fruit Dictionary\n",
    "def generate_random_fruits(fruit):\n",
    "    fruit_path = \"images/\" + fruit + \".png\"\n",
    "    data[fruit] = {\n",
    "        'img': pygame.image.load(fruit_path),\n",
    "        'x' : random.randint(100,500),               \n",
    "        'y' : 800,\n",
    "        'speed_x': random.randint(-10,10),    \n",
    "        'speed_y': random.randint(-80, -60),    \n",
    "        'throw': False,                       \n",
    "        't': 0,                               \n",
    "        'hit': False,\n",
    "    }\n",
    "    if random.random() >= 0.75:     \n",
    "        data[fruit]['throw'] = True\n",
    "    else:\n",
    "        data[fruit]['throw'] = False\n",
    "data = {}\n",
    "for fruit in fruits:\n",
    "    generate_random_fruits(fruit)"
   ]
  },
  {
   "cell_type": "markdown",
   "id": "4a9a4182-e97a-45c0-8084-df56f0741261",
   "metadata": {},
   "source": [
    "+ This function generates random fruits and generalized structure\n",
    "+ ‘x’ and ‘y’ store the value where the fruit should be positioned on x-coordinate and y – coordinate\n",
    "+ Speed_x and speed_y are key that store the value of how fast the fruit should move in the x and y-direction. It also controls the diagonal movement of fruits\n",
    "+ throws key used to determine that the generated coordinate of the fruits is outside the gameplay or not. If outside, then it will be discarded.\n",
    "+ Return the next random floating-point number in the range [0.0, 1.0) to keep the fruits inside the gameDisplay\n",
    "+ Data Dictionary used to hold the data of the random fruit generation"
   ]
  },
  {
   "cell_type": "code",
   "execution_count": 4,
   "id": "0e86289d-8d06-477d-a516-1f0f6850aad0",
   "metadata": {},
   "outputs": [],
   "source": [
    "# Method to draw fonts\n",
    "font_name = pygame.font.match_font('comic.ttf')\n",
    "def draw_text(display, text, size, x, y):\n",
    "    font = pygame.font.Font(font_name, size)\n",
    "    text_surface = font.render(text, True, WHITE)\n",
    "    text_rect = text_surface.get_rect()\n",
    "    text_rect.midtop = (x, y)\n",
    "    gameDisplay.blit(text_surface, text_rect)"
   ]
  },
  {
   "cell_type": "markdown",
   "id": "09309fa3-abd7-4c5b-948b-38522e7af343",
   "metadata": {},
   "source": [
    "+ Draw_text function helps to draw text on the screen.\n",
    "+ get_rect() return the Rect object.\n",
    "+ X and y is the dimension of x-direction and y-direction\n",
    "+ blit() draws image or writes text on the screen at a specified position"
   ]
  },
  {
   "cell_type": "code",
   "execution_count": 5,
   "id": "ee1061c2-49e7-4576-a9a9-9035a718cd15",
   "metadata": {},
   "outputs": [],
   "source": [
    "# Draw players lives\n",
    "def draw_lives(display, x, y, lives, images) :\n",
    "    for i in range(lives) :\n",
    "        img = pygame.image.load(images)\n",
    "        img_rect = img.get_rect()\n",
    "        img_rect.x = int(x + 35 *i)\n",
    "        img_rect.y = y\n",
    "        display.blit(img, img_rect)\n",
    "        \n",
    "def hide_cross_lives(x, y) :\n",
    "    gameDisplay.blit(pygame.image.load(\"images/red_lives.png\"), (x, y))"
   ]
  },
  {
   "cell_type": "markdown",
   "id": "e104d3aa-6658-4701-984a-93bb4c183c43",
   "metadata": {},
   "source": [
    "+ img_rect gets the (x,y) coordinates of the cross icons (lives on the top rightmost side)\n",
    "+ img_rect .x sets the next cross icon 35 pixels from the previous one\n",
    "+ img_rect.y takes care of how many pixels the cross icon should be positioned from the top of the screen"
   ]
  },
  {
   "cell_type": "code",
   "execution_count": 6,
   "id": "9377b887-0680-419b-b2d7-bb9972b8c746",
   "metadata": {},
   "outputs": [],
   "source": [
    "# Show game over display & front display\n",
    "def show_gameover_screen():\n",
    "    gameDisplay.blit(background, (0,0))\n",
    "    draw_text(gameDisplay, \"FRUIT NINJA!\", 64, WIDTH / 2, HEIGHT / 4)\n",
    "    if not game_over :\n",
    "        draw_text(gameDisplay,\"Score : \" + str(score), 40, WIDTH / 2, 250)\n",
    "    draw_text(gameDisplay, \"Press a key to begin!\", 24, WIDTH / 2, HEIGHT * 3 / 4)\n",
    "    pygame.display.flip()\n",
    "    waiting = True\n",
    "    while waiting:\n",
    "        clock.tick(FPS)\n",
    "        for event in pygame.event.get():\n",
    "            if event.type == pygame.QUIT:\n",
    "                pygame.quit()\n",
    "            if event.type == pygame.KEYUP:\n",
    "                waiting = False"
   ]
  },
  {
   "cell_type": "markdown",
   "id": "1b2e1249-2b98-4e67-93cd-cb324ad95ca2",
   "metadata": {},
   "source": [
    "+ show_gameover_screen() function shows the initial game screen and game over screen\n",
    "+ pygame.display.flip() will update only a part of screen but if no args will pass then it will update the entire screen\n",
    "+ pygame.event.get() will return all the event stored in the pygame event queue\n",
    "+ If event type is equal to quit then the pygame will quit\n",
    "+ event.KEYUP event that occurs when the key is pressed and released"
   ]
  },
  {
   "cell_type": "code",
   "execution_count": 7,
   "id": "a1213b1e-56d5-488a-bce8-cf639e5fc6f5",
   "metadata": {},
   "outputs": [
    {
     "ename": "error",
     "evalue": "video system not initialized",
     "output_type": "error",
     "traceback": [
      "\u001b[1;31m---------------------------------------------------------------------------\u001b[0m",
      "\u001b[1;31merror\u001b[0m                                     Traceback (most recent call last)",
      "\u001b[1;32m<ipython-input-7-409083941985>\u001b[0m in \u001b[0;36m<module>\u001b[1;34m\u001b[0m\n\u001b[0;32m     41\u001b[0m \u001b[1;33m\u001b[0m\u001b[0m\n\u001b[0;32m     42\u001b[0m                     \u001b[1;32mif\u001b[0m \u001b[0mplayer_lives\u001b[0m \u001b[1;33m<\u001b[0m \u001b[1;36m0\u001b[0m \u001b[1;33m:\u001b[0m\u001b[1;33m\u001b[0m\u001b[1;33m\u001b[0m\u001b[0m\n\u001b[1;32m---> 43\u001b[1;33m                         \u001b[0mshow_gameover_screen\u001b[0m\u001b[1;33m(\u001b[0m\u001b[1;33m)\u001b[0m\u001b[1;33m\u001b[0m\u001b[1;33m\u001b[0m\u001b[0m\n\u001b[0m\u001b[0;32m     44\u001b[0m                         \u001b[0mgame_over\u001b[0m \u001b[1;33m=\u001b[0m \u001b[1;32mTrue\u001b[0m\u001b[1;33m\u001b[0m\u001b[1;33m\u001b[0m\u001b[0m\n\u001b[0;32m     45\u001b[0m                     \u001b[0mhalf_fruit_path\u001b[0m \u001b[1;33m=\u001b[0m \u001b[1;34m\"images/explosion.png\"\u001b[0m\u001b[1;33m\u001b[0m\u001b[1;33m\u001b[0m\u001b[0m\n",
      "\u001b[1;32m<ipython-input-6-f1e3cf4091db>\u001b[0m in \u001b[0;36mshow_gameover_screen\u001b[1;34m()\u001b[0m\n\u001b[0;32m     10\u001b[0m     \u001b[1;32mwhile\u001b[0m \u001b[0mwaiting\u001b[0m\u001b[1;33m:\u001b[0m\u001b[1;33m\u001b[0m\u001b[1;33m\u001b[0m\u001b[0m\n\u001b[0;32m     11\u001b[0m         \u001b[0mclock\u001b[0m\u001b[1;33m.\u001b[0m\u001b[0mtick\u001b[0m\u001b[1;33m(\u001b[0m\u001b[0mFPS\u001b[0m\u001b[1;33m)\u001b[0m\u001b[1;33m\u001b[0m\u001b[1;33m\u001b[0m\u001b[0m\n\u001b[1;32m---> 12\u001b[1;33m         \u001b[1;32mfor\u001b[0m \u001b[0mevent\u001b[0m \u001b[1;32min\u001b[0m \u001b[0mpygame\u001b[0m\u001b[1;33m.\u001b[0m\u001b[0mevent\u001b[0m\u001b[1;33m.\u001b[0m\u001b[0mget\u001b[0m\u001b[1;33m(\u001b[0m\u001b[1;33m)\u001b[0m\u001b[1;33m:\u001b[0m\u001b[1;33m\u001b[0m\u001b[1;33m\u001b[0m\u001b[0m\n\u001b[0m\u001b[0;32m     13\u001b[0m             \u001b[1;32mif\u001b[0m \u001b[0mevent\u001b[0m\u001b[1;33m.\u001b[0m\u001b[0mtype\u001b[0m \u001b[1;33m==\u001b[0m \u001b[0mpygame\u001b[0m\u001b[1;33m.\u001b[0m\u001b[0mQUIT\u001b[0m\u001b[1;33m:\u001b[0m\u001b[1;33m\u001b[0m\u001b[1;33m\u001b[0m\u001b[0m\n\u001b[0;32m     14\u001b[0m                 \u001b[0mpygame\u001b[0m\u001b[1;33m.\u001b[0m\u001b[0mquit\u001b[0m\u001b[1;33m(\u001b[0m\u001b[1;33m)\u001b[0m\u001b[1;33m\u001b[0m\u001b[1;33m\u001b[0m\u001b[0m\n",
      "\u001b[1;31merror\u001b[0m: video system not initialized"
     ]
    }
   ],
   "source": [
    "# Game Loop\n",
    "first_round = True\n",
    "game_over = True        \n",
    "game_running = True    \n",
    "while game_running :\n",
    "    if game_over :\n",
    "        if first_round :\n",
    "            show_gameover_screen()\n",
    "            first_round = False\n",
    "        game_over = False\n",
    "        player_lives = 3\n",
    "        draw_lives(gameDisplay, 690, 5, player_lives, 'images/red_lives.png')\n",
    "        score = 0\n",
    "    for event in pygame.event.get():\n",
    "        if event.type == pygame.QUIT:\n",
    "            game_running = False\n",
    "    gameDisplay.blit(background, (0, 0))\n",
    "    gameDisplay.blit(score_text, (0, 0))\n",
    "    draw_lives(gameDisplay, 690, 5, player_lives, 'images/red_lives.png')\n",
    "    for key, value in data.items():\n",
    "        if value['throw']:\n",
    "            value['x'] += value['speed_x']\n",
    "            value['y'] += value['speed_y']\n",
    "            value['speed_y'] += (1 * value['t'])\n",
    "            value['t'] += 1\n",
    "            if value['y'] <= 800:\n",
    "                gameDisplay.blit(value['img'], (value['x'], value['y']))\n",
    "            else:\n",
    "                generate_random_fruits(key)\n",
    "            current_position = pygame.mouse.get_pos()\n",
    "            if not value['hit'] and current_position[0] > value['x'] and current_position[0] < value['x']+60 \\\n",
    "                    and current_position[1] > value['y'] and current_position[1] < value['y']+60:\n",
    "                if key == 'bomb':\n",
    "                    player_lives -= 1\n",
    "                    if player_lives == 0:\n",
    "                        hide_cross_lives(690, 15)\n",
    "                    elif player_lives == 1 :\n",
    "                        hide_cross_lives(725, 15)\n",
    "                    elif player_lives == 2 :\n",
    "                        hide_cross_lives(760, 15)\n",
    "                  \n",
    "                    if player_lives < 0 :\n",
    "                        show_gameover_screen()\n",
    "                        game_over = True\n",
    "                    half_fruit_path = \"images/explosion.png\"\n",
    "                else:\n",
    "                    half_fruit_path = \"images/\" + \"half_\" + key + \".png\"\n",
    "                value['img'] = pygame.image.load(half_fruit_path)\n",
    "                value['speed_x'] += 10\n",
    "                if key != 'bomb' :\n",
    "                    score += 1\n",
    "                score_text = font.render('Score : ' + str(score), True, (255, 255, 255))\n",
    "                value['hit'] = True\n",
    "        else:\n",
    "            generate_random_fruits(key)\n",
    "    pygame.display.update()\n",
    "    clock.tick(FPS)\n",
    "pygame.quit()"
   ]
  },
  {
   "cell_type": "markdown",
   "id": "9d73986f-f4f2-48c0-99d2-0ec12c6234b5",
   "metadata": {},
   "source": [
    "+ This is the mainloop of the game\n",
    "+ game_over terminates the game while loop if more than 3-Bombs are cut\n",
    "+ game_running used to manage the game loop\n",
    "+ If the event type is quit then the game window will be closed\n",
    "+ In this game loop we displaying the fruits inside the screen dynamically\n",
    "+ If a fruit is not cut then nothing will happen to it. if fruit cut, then a half-cut-fruit image should appear in place of that fruit\n",
    "+ if the user clicks bombs for three-time, a GAME OVER message should be displayed and the window should be reset\n",
    "+ clock.tick() will keep the loop running at the right speed (manages the frame/second). The loop should update after every 1/12th of the sec"
   ]
  },
  {
   "cell_type": "code",
   "execution_count": null,
   "id": "67cf91da-9152-4ffe-bc80-e160dd90b3ec",
   "metadata": {
    "jupyter": {
     "source_hidden": true
    },
    "tags": []
   },
   "outputs": [],
   "source": []
  }
 ],
 "metadata": {
  "kernelspec": {
   "display_name": "Python 3",
   "language": "python",
   "name": "python3"
  },
  "language_info": {
   "codemirror_mode": {
    "name": "ipython",
    "version": 3
   },
   "file_extension": ".py",
   "mimetype": "text/x-python",
   "name": "python",
   "nbconvert_exporter": "python",
   "pygments_lexer": "ipython3",
   "version": "3.8.8"
  }
 },
 "nbformat": 4,
 "nbformat_minor": 5
}
